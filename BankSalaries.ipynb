{
 "cells": [
  {
   "cell_type": "markdown",
   "id": "cd8b4315-5431-4ef9-a58e-6ce1edf195da",
   "metadata": {},
   "source": [
    "Intro intro hi hallo *add information later"
   ]
  },
  {
   "cell_type": "markdown",
   "id": "a8be31f9-a465-41d0-bed3-438e9ae415f5",
   "metadata": {},
   "source": [
    "### imports"
   ]
  },
  {
   "cell_type": "code",
   "execution_count": null,
   "id": "fdcff904-61d0-4c33-9f75-96120cc42508",
   "metadata": {},
   "outputs": [],
   "source": [
    "#Import packages\n",
    "import numpy as np\n",
    "import pandas as pd\n",
    "import matplotlib.pyplot as plt\n",
    "import seaborn as sns\n",
    "\n",
    "from sklearn.linear_model import LinearRegression\n",
    "from sklearn.metrics import r2_score\n",
    "\n",
    "# Set figure stile and size for entire notebook\n",
    "plt.rcParams[\"figure.figsize\"] = (7,4)\n"
   ]
  },
  {
   "cell_type": "code",
   "execution_count": null,
   "id": "5cc45b73-4a52-47f6-b285-0b92db4e555b",
   "metadata": {},
   "outputs": [],
   "source": [
    "# Import dataset \n",
    "cars = pd.read_csv(\"data/salaries.asc\",sep='\\t')\n",
    "cars.head()"
   ]
  }
 ],
 "metadata": {
  "kernelspec": {
   "display_name": "Python 3 (ipykernel)",
   "language": "python",
   "name": "python3"
  },
  "language_info": {
   "codemirror_mode": {
    "name": "ipython",
    "version": 3
   },
   "file_extension": ".py",
   "mimetype": "text/x-python",
   "name": "python",
   "nbconvert_exporter": "python",
   "pygments_lexer": "ipython3",
   "version": "3.9.8"
  }
 },
 "nbformat": 4,
 "nbformat_minor": 5
}
