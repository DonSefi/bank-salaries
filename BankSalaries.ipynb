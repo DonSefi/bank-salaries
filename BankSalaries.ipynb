{
 "cells": [
  {
   "cell_type": "markdown",
   "id": "cd8b4315-5431-4ef9-a58e-6ce1edf195da",
   "metadata": {},
   "source": [
    "Intro intro hi hallo *add information later"
   ]
  },
  {
   "cell_type": "markdown",
   "id": "d7a48d1b-0443-4933-b0d4-b6f738ce884c",
   "metadata": {},
   "source": [
    "Leading question:  \n",
    "\n",
    "Find out, if there might be a difference in salary depending on an employee's gender and/or minority affiliation. What role does the job category play?\n",
    "\n",
    "Steps we think we should do(*brainstorming):\n",
    "- load data\n",
    "- get a feeling about the data (quick EDA)\n",
    "- data cleaning \n",
    "- train linear regression (looking for gender / minories)\n",
    "- create some random plots showing the gender distribution\n",
    "- create pairplots\n",
    "- data cleaning again\n",
    "- outlier detection\n",
    "\n",
    "- split the data\n",
    "- check different metrics (e.g. RMSE*,MSE,R2*,adj.R2,MAPE,MAE)\n",
    "\n",
    "- figure out our target(salary!) / our features\n",
    "- correlation matrix \n",
    "\n",
    "Steps we think we should do(*in sequence? NO ITERATIVELY):\n",
    "- load data\n",
    "- get a feeling about the data (quick EDA, pairplots, Correlations)\n",
    "- data cleaning / outlier detection (if necessary) \n",
    "- select which features to use\n",
    "- train/test splitting\n",
    "- train linear regression (looking for gender / minories)\n",
    "- check different metrics (RMSE,R2)\n",
    "- tweak our model for better results (feature engineering)\n",
    "- analyse based on LR model whats going on\n",
    "- show this in plots/other convincing form to make our point\n",
    "- error analysis (paterns in resid, bias/variance etc)\n",
    "\n",
    "- tweak our model for better generalization (regularization etc)\n",
    "\n",
    "\n",
    "\n"
   ]
  },
  {
   "cell_type": "markdown",
   "id": "214dcf10-a6b0-4cd4-a218-5ece179dc8c4",
   "metadata": {},
   "source": [
    "## Metrics for evaluation\n",
    "We start with using RMSE and R2 to work on this as sort of a profiling analysis\n",
    "later, to check how well our model generalizes we are useing RMSE"
   ]
  },
  {
   "cell_type": "markdown",
   "id": "a8be31f9-a465-41d0-bed3-438e9ae415f5",
   "metadata": {},
   "source": [
    "### imports"
   ]
  },
  {
   "cell_type": "code",
   "execution_count": null,
   "id": "fdcff904-61d0-4c33-9f75-96120cc42508",
   "metadata": {},
   "outputs": [],
   "source": [
    "#Import packages\n",
    "import numpy as np\n",
    "import pandas as pd\n",
    "import matplotlib.pyplot as plt\n",
    "import seaborn as sns\n",
    "\n",
    "from sklearn.linear_model import LinearRegression\n",
    "from sklearn.metrics import r2_score,mean_squared_error\n",
    "\n",
    "# Set figure stile and size for entire notebook\n",
    "plt.rcParams[\"figure.figsize\"] = (7,4)\n"
   ]
  },
  {
   "cell_type": "code",
   "execution_count": null,
   "id": "5cc45b73-4a52-47f6-b285-0b92db4e555b",
   "metadata": {},
   "outputs": [],
   "source": [
    "# Import dataset \n",
    "df_salaries = pd.read_csv(\"data/salaries.asc\",sep='\\t')\n",
    "df_salaries.head()"
   ]
  },
  {
   "cell_type": "markdown",
   "id": "c8afe205-ee94-484b-b48b-a71e096ebc48",
   "metadata": {},
   "source": [
    "#### get a feeling about the data (quick EDA, pairplots, Correlations)\n"
   ]
  },
  {
   "cell_type": "code",
   "execution_count": null,
   "id": "df3e472e-0cd5-42e0-bfd5-d4fe8edbcfa7",
   "metadata": {},
   "outputs": [],
   "source": [
    "df_salaries.info()"
   ]
  },
  {
   "cell_type": "code",
   "execution_count": null,
   "id": "692f2286-2db6-488d-8f5b-5103257c2d7f",
   "metadata": {},
   "outputs": [],
   "source": [
    "print('we have 474 observations of 9 features')\n",
    "print('we have 2 data types: int and float')\n",
    "print('we have 0 missing values')\n",
    "print('it seems that we have categorical data we should deal with')"
   ]
  },
  {
   "cell_type": "code",
   "execution_count": null,
   "id": "3ec3b874-a7bb-48c9-8e5d-99020b2aee80",
   "metadata": {},
   "outputs": [],
   "source": [
    "df_salaries.describe()"
   ]
  },
  {
   "cell_type": "markdown",
   "id": "223b3dd3-8e1a-4504-9064-ac47e999d9ca",
   "metadata": {},
   "source": [
    "We already see there is quite a large spread in Salary"
   ]
  },
  {
   "cell_type": "code",
   "execution_count": null,
   "id": "a8f60d7a-50b2-48fd-b945-c340676139c0",
   "metadata": {},
   "outputs": [],
   "source": [
    "sns.pairplot(df_salaries,kind='reg')"
   ]
  },
  {
   "cell_type": "markdown",
   "id": "bf13726d-8864-4e90-8a98-aeff7be4c0a8",
   "metadata": {},
   "source": [
    "Some findings:\n",
    "\n",
    "- no impact of ID\n",
    "- problem with LOGSAL \n",
    "\n",
    "-salbegin / logsalbegin is to showing a promising correlation\n",
    "We have some categorical features that we might have to deal with\n"
   ]
  },
  {
   "cell_type": "markdown",
   "id": "c010dc4b-cee9-4049-9642-0028c45e106a",
   "metadata": {},
   "source": [
    "Plot the correlation matrix!"
   ]
  },
  {
   "cell_type": "code",
   "execution_count": null,
   "id": "1ffb16c9-7aeb-494d-899f-d54c6ff75c7d",
   "metadata": {},
   "outputs": [],
   "source": [
    "df_salaries.corr().SALARY"
   ]
  },
  {
   "cell_type": "markdown",
   "id": "2de6486f-7b7c-48b8-baad-ff6a45c02a91",
   "metadata": {},
   "source": [
    "Linear Regression"
   ]
  },
  {
   "cell_type": "code",
   "execution_count": null,
   "id": "d409688c-a0c3-4818-b26e-1c8426778ca9",
   "metadata": {},
   "outputs": [],
   "source": [
    "df_salaries"
   ]
  },
  {
   "cell_type": "code",
   "execution_count": null,
   "id": "f2908049-63e5-40b9-abd7-ab010bcd088a",
   "metadata": {},
   "outputs": [],
   "source": [
    "y=df_salaries.SALARY"
   ]
  },
  {
   "cell_type": "code",
   "execution_count": null,
   "id": "19371ce7-9ac7-41c5-b3f6-dde758400043",
   "metadata": {},
   "outputs": [],
   "source": [
    "cols=df_salaries.columns\n",
    "cols"
   ]
  },
  {
   "cell_type": "code",
   "execution_count": null,
   "id": "95ecd8ae-d2a1-4e43-859d-c0771691e44d",
   "metadata": {},
   "outputs": [],
   "source": [
    "X=df_salaries[['EDUC', 'LOGSALBEGIN',\n",
    "       'GENDER', 'MINORITY', 'JOBCAT']]"
   ]
  },
  {
   "cell_type": "code",
   "execution_count": null,
   "id": "11916b6c-3d66-463e-91cd-80fcf124809b",
   "metadata": {},
   "outputs": [],
   "source": [
    "lin_reg=LinearRegression()"
   ]
  },
  {
   "cell_type": "code",
   "execution_count": null,
   "id": "22591ba9-640c-4877-8fa3-1752ba5277d1",
   "metadata": {},
   "outputs": [],
   "source": [
    "lin_reg.fit(X,y)\n"
   ]
  },
  {
   "cell_type": "code",
   "execution_count": null,
   "id": "2ee79f67-1377-4fd3-ad5a-c762c479907d",
   "metadata": {},
   "outputs": [],
   "source": [
    "lin_reg.intercept_"
   ]
  },
  {
   "cell_type": "code",
   "execution_count": null,
   "id": "83973597-d4c2-4700-8b23-f970d3aa72fb",
   "metadata": {},
   "outputs": [],
   "source": [
    "lin_reg.coef_"
   ]
  },
  {
   "cell_type": "code",
   "execution_count": null,
   "id": "51e1ae5b-6ba5-4cfa-ab2b-99dba76de072",
   "metadata": {},
   "outputs": [],
   "source": [
    "slopes=[x.round(0) for x in lin_reg.coef_]\n",
    "slopes"
   ]
  },
  {
   "cell_type": "code",
   "execution_count": null,
   "id": "b175bb01-f551-4df1-af86-161b8b9b3ddf",
   "metadata": {},
   "outputs": [],
   "source": [
    "features=X.columns"
   ]
  },
  {
   "cell_type": "code",
   "execution_count": null,
   "id": "9b4883c8-963c-4657-810c-f045b7898346",
   "metadata": {},
   "outputs": [],
   "source": [
    "print(f'y_pred={lin_reg.intercept_.round(0)}+{features[0]}*{slopes[0]}+{features[1]}*{slopes[1]}+{features[2]}*{slopes[2]}+{features[3]}*{slopes[3]}+{features[4]}*{slopes[4]}')"
   ]
  },
  {
   "cell_type": "code",
   "execution_count": null,
   "id": "fe825552-6b55-438c-aac2-5e92d8a13cc5",
   "metadata": {},
   "outputs": [],
   "source": [
    "-566.0/34000"
   ]
  },
  {
   "cell_type": "code",
   "execution_count": null,
   "id": "314a84ef-671d-4a5a-8f62-9d7aed9e7d31",
   "metadata": {},
   "outputs": [],
   "source": [
    "y_pred=lin_reg.predict(X)"
   ]
  },
  {
   "cell_type": "code",
   "execution_count": null,
   "id": "2e746536-d1b0-4c2d-87e3-0f7a0ea017cf",
   "metadata": {},
   "outputs": [],
   "source": [
    "R2=r2_score(y,y_pred)\n",
    "R2"
   ]
  },
  {
   "cell_type": "code",
   "execution_count": null,
   "id": "86469d71-62d6-4c4c-994b-a0fc18195314",
   "metadata": {},
   "outputs": [],
   "source": [
    "x=10\n",
    "y2=100"
   ]
  },
  {
   "cell_type": "code",
   "execution_count": null,
   "id": "2a894960-b6d1-45a9-b3ff-b6100553a81b",
   "metadata": {},
   "outputs": [],
   "source": [
    "def square_it(x):\n",
    "    return y2*x**2"
   ]
  },
  {
   "cell_type": "code",
   "execution_count": null,
   "id": "493bec74-c8df-4553-9fd8-c095d4f0a56b",
   "metadata": {},
   "outputs": [],
   "source": [
    "square_it(5)"
   ]
  },
  {
   "cell_type": "code",
   "execution_count": null,
   "id": "b1aae230-cb0a-4306-9789-b03e6aeae752",
   "metadata": {},
   "outputs": [],
   "source": [
    "square_it(5)"
   ]
  },
  {
   "cell_type": "code",
   "execution_count": null,
   "id": "c28692be-eb97-477a-92e5-d3903769de7d",
   "metadata": {},
   "outputs": [],
   "source": [
    "resid=y-y_pred"
   ]
  },
  {
   "cell_type": "code",
   "execution_count": null,
   "id": "d6d7f45c-0035-4662-bd6c-4740d31db65a",
   "metadata": {},
   "outputs": [],
   "source": [
    "sns.histplot(resid)"
   ]
  },
  {
   "cell_type": "code",
   "execution_count": null,
   "id": "d45537cc-b89e-4ee2-b4eb-55412d51f71e",
   "metadata": {},
   "outputs": [],
   "source": [
    "sns.regplot(x=y,y=resid)"
   ]
  },
  {
   "cell_type": "code",
   "execution_count": null,
   "id": "5e7ca30f-f38d-4fee-8bcd-01784f2651df",
   "metadata": {},
   "outputs": [],
   "source": []
  }
 ],
 "metadata": {
  "kernelspec": {
   "display_name": "Python 3 (ipykernel)",
   "language": "python",
   "name": "python3"
  },
  "language_info": {
   "codemirror_mode": {
    "name": "ipython",
    "version": 3
   },
   "file_extension": ".py",
   "mimetype": "text/x-python",
   "name": "python",
   "nbconvert_exporter": "python",
   "pygments_lexer": "ipython3",
   "version": "3.9.8"
  }
 },
 "nbformat": 4,
 "nbformat_minor": 5
}
